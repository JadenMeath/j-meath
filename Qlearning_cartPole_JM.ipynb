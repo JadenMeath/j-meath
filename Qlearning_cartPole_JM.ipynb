{
  "cells": [
    {
      "cell_type": "markdown",
      "metadata": {
        "id": "LQN_pXbTV-q-"
      },
      "source": [
        "# install dependancies, takes around 45 seconds\n",
        "\n",
        "Rendering Dependancies\n"
      ]
    },
    {
      "cell_type": "code",
      "execution_count": 1,
      "metadata": {
        "id": "R8R_TaHTCY3A",
        "colab": {
          "base_uri": "https://localhost:8080/",
          "height": 0
        },
        "outputId": "8fd50956-6516-41b6-b8db-46b5f236bb3a"
      },
      "outputs": [
        {
          "output_type": "stream",
          "name": "stdout",
          "text": [
            "\r0% [Working]\r            \rHit:1 http://security.ubuntu.com/ubuntu bionic-security InRelease\n",
            "\r0% [Connecting to archive.ubuntu.com (185.125.190.39)] [Connected to cloud.r-pr\r0% [1 InRelease gpgv 88.7 kB] [Connecting to archive.ubuntu.com (185.125.190.39\r                                                                               \rHit:2 https://cloud.r-project.org/bin/linux/ubuntu bionic-cran40/ InRelease\n",
            "\r0% [1 InRelease gpgv 88.7 kB] [Connecting to archive.ubuntu.com (185.125.190.39\r                                                                               \r0% [Waiting for headers] [Waiting for headers] [Waiting for headers]\r0% [2 InRelease gpgv 3,626 B] [Waiting for headers] [Waiting for headers] [Wait\r                                                                               \rHit:3 http://ppa.launchpad.net/c2d4u.team/c2d4u4.0+/ubuntu bionic InRelease\n",
            "\r0% [2 InRelease gpgv 3,626 B] [Waiting for headers] [Waiting for headers] [Conn\r                                                                               \rHit:4 http://archive.ubuntu.com/ubuntu bionic InRelease\n",
            "\r0% [2 InRelease gpgv 3,626 B] [Waiting for headers] [Waiting for headers] [Conn\r                                                                               \rIgn:5 https://developer.download.nvidia.com/compute/machine-learning/repos/ubuntu1804/x86_64  InRelease\n",
            "\r0% [2 InRelease gpgv 3,626 B] [Waiting for headers] [Waiting for headers] [Conn\r                                                                               \rHit:6 https://developer.download.nvidia.com/compute/cuda/repos/ubuntu1804/x86_64  InRelease\n",
            "\r0% [2 InRelease gpgv 3,626 B] [Waiting for headers] [Connecting to ppa.launchpa\r                                                                               \rHit:7 https://developer.download.nvidia.com/compute/machine-learning/repos/ubuntu1804/x86_64  Release\n",
            "Hit:8 http://archive.ubuntu.com/ubuntu bionic-updates InRelease\n",
            "Hit:9 http://archive.ubuntu.com/ubuntu bionic-backports InRelease\n",
            "Hit:10 http://ppa.launchpad.net/cran/libgit2/ubuntu bionic InRelease\n",
            "Hit:11 http://ppa.launchpad.net/deadsnakes/ppa/ubuntu bionic InRelease\n",
            "Hit:13 http://ppa.launchpad.net/graphics-drivers/ppa/ubuntu bionic InRelease\n",
            "Reading package lists... Done\n"
          ]
        }
      ],
      "source": [
        "!sudo apt-get update\n",
        "!pip install gym pyvirtualdisplay > /dev/null 2>&1\n",
        "!apt-get install -y xvfb python-opengl ffmpeg > /dev/null 2>&1"
      ]
    },
    {
      "cell_type": "code",
      "execution_count": 2,
      "metadata": {
        "id": "f_5DjgoOWjw3",
        "colab": {
          "base_uri": "https://localhost:8080/",
          "height": 0
        },
        "outputId": "7425873c-0ea1-4805-bab2-70387476a3e2"
      },
      "outputs": [
        {
          "output_type": "stream",
          "name": "stdout",
          "text": [
            "Looking in indexes: https://pypi.org/simple, https://us-python.pkg.dev/colab-wheels/public/simple/\n",
            "Requirement already satisfied: setuptools in /usr/local/lib/python3.8/dist-packages (65.6.3)\n",
            "Looking in indexes: https://pypi.org/simple, https://us-python.pkg.dev/colab-wheels/public/simple/\n",
            "Requirement already satisfied: gym[classic_control] in /usr/local/lib/python3.8/dist-packages (0.25.2)\n",
            "Requirement already satisfied: gym-notices>=0.0.4 in /usr/local/lib/python3.8/dist-packages (from gym[classic_control]) (0.0.8)\n",
            "Requirement already satisfied: importlib-metadata>=4.8.0 in /usr/local/lib/python3.8/dist-packages (from gym[classic_control]) (4.13.0)\n",
            "Requirement already satisfied: numpy>=1.18.0 in /usr/local/lib/python3.8/dist-packages (from gym[classic_control]) (1.21.6)\n",
            "Requirement already satisfied: cloudpickle>=1.2.0 in /usr/local/lib/python3.8/dist-packages (from gym[classic_control]) (1.5.0)\n",
            "Collecting pygame==2.1.0\n",
            "  Using cached pygame-2.1.0-cp38-cp38-manylinux_2_17_x86_64.manylinux2014_x86_64.whl (18.3 MB)\n",
            "Requirement already satisfied: zipp>=0.5 in /usr/local/lib/python3.8/dist-packages (from importlib-metadata>=4.8.0->gym[classic_control]) (3.11.0)\n",
            "Installing collected packages: pygame\n",
            "Successfully installed pygame-2.1.0\n"
          ]
        }
      ],
      "source": [
        "!apt-get update > /dev/null 2>&1\n",
        "!apt-get install cmake > /dev/null 2>&1\n",
        "!pip install --upgrade setuptools 2>&1\n",
        "!pip install ez_setup > /dev/null 2>&1\n",
        "!pip install gym[classic_control]"
      ]
    },
    {
      "cell_type": "code",
      "execution_count": 3,
      "metadata": {
        "id": "LPKs48i2A0o6"
      },
      "outputs": [],
      "source": [
        "# import some helper functions and tools\n",
        "import gym\n",
        "from gym import logger as gymlogger\n",
        "from gym.wrappers.monitoring.video_recorder import VideoRecorder\n",
        "import numpy as np\n",
        "import time, math, random\n",
        "import numpy as np\n",
        "import matplotlib\n",
        "import matplotlib.pyplot as plt\n",
        "%matplotlib inline\n",
        "import glob\n",
        "import io\n",
        "import base64\n",
        "from IPython.display import HTML\n",
        "\n",
        "from IPython import display as ipythondisplay"
      ]
    },
    {
      "cell_type": "markdown",
      "metadata": {
        "id": "jbsY1Qw_A9zL"
      },
      "source": [
        "The Cart-Pole consists of a pole, which is connected to a horizontally moving cart. T solve the task, the pole has to be balanced by applying a force F to the cart, The system is nonlinear, since the rotation of the pole introduces trigonometric functions into the force balance equations."
      ]
    },
    {
      "cell_type": "markdown",
      "metadata": {
        "id": "kmQAHQgjB3RH"
      },
      "source": [
        " # State and Action\n",
        " All observations are assigned a uniformly random value in (-0.05, 0.05)"
      ]
    },
    {
      "cell_type": "code",
      "execution_count": 4,
      "metadata": {
        "id": "FBtQo_b7XS9B",
        "colab": {
          "base_uri": "https://localhost:8080/",
          "height": 0
        },
        "outputId": "c67522b0-f0a1-4ac3-9571-00cbfe7a0b7e"
      },
      "outputs": [
        {
          "output_type": "stream",
          "name": "stderr",
          "text": [
            "/usr/local/lib/python3.8/dist-packages/gym/envs/registration.py:593: UserWarning: \u001b[33mWARN: The environment CartPole-v0 is out of date. You should consider upgrading to version `v1`.\u001b[0m\n",
            "  logger.warn(\n",
            "/usr/local/lib/python3.8/dist-packages/gym/core.py:317: DeprecationWarning: \u001b[33mWARN: Initializing wrapper in old step API which returns one bool instead of two. It is recommended to set `new_step_api=True` to use new step API. This will be the default behaviour in future.\u001b[0m\n",
            "  deprecation(\n",
            "/usr/local/lib/python3.8/dist-packages/gym/wrappers/step_api_compatibility.py:39: DeprecationWarning: \u001b[33mWARN: Initializing environment in old step API which returns one bool instead of two. It is recommended to set `new_step_api=True` to use new step API. This will be the default behaviour in future.\u001b[0m\n",
            "  deprecation(\n"
          ]
        },
        {
          "output_type": "execute_result",
          "data": {
            "text/plain": [
              "array([ 0.03889113, -0.00658859, -0.03885296, -0.02535179], dtype=float32)"
            ]
          },
          "metadata": {},
          "execution_count": 4
        }
      ],
      "source": [
        "env = gym.make(\"CartPole-v0\")\n",
        "# The environment is old, there will be a warning. But there is no need to change the environment to a newer version.\n",
        "env.reset()\n",
        "# This will give you the initial states: [position, velocity, angle, angular velocity]"
      ]
    },
    {
      "cell_type": "code",
      "execution_count": 5,
      "metadata": {
        "id": "EQ6CTLCXb0uw",
        "colab": {
          "base_uri": "https://localhost:8080/",
          "height": 0
        },
        "outputId": "d03ff467-1d26-431a-adc4-96edcb107650"
      },
      "outputs": [
        {
          "output_type": "stream",
          "name": "stdout",
          "text": [
            "upper bounds [4.8000002e+00 3.4028235e+38 4.1887903e-01 3.4028235e+38]\n",
            "lower bounds [-4.8000002e+00 -3.4028235e+38 -4.1887903e-01 -3.4028235e+38]\n"
          ]
        }
      ],
      "source": [
        "print(\"upper bounds\", env.observation_space.high)\n",
        "print(\"lower bounds\", env.observation_space.low)"
      ]
    },
    {
      "cell_type": "markdown",
      "metadata": {
        "id": "RsNhb-yGA_qO"
      },
      "source": [
        "The **states** of the Cart-Pole are the distance s of the cart, the velocity dot $\\dot{s}$ of the cart, the angle of the pole $\\theta$ and the angular velocity of the pole dot $\\dot{\\theta}$. In the environment, the observation of the environment will be $\\text{obs}=[s,\\dot{s},\\theta,\\dot{\\theta}]$"
      ]
    },
    {
      "cell_type": "code",
      "execution_count": 6,
      "metadata": {
        "id": "8TEt1F12X9ky",
        "colab": {
          "base_uri": "https://localhost:8080/",
          "height": 0
        },
        "outputId": "70b51a14-a42c-4518-aa92-42bae5e6a187"
      },
      "outputs": [
        {
          "output_type": "execute_result",
          "data": {
            "text/plain": [
              "Discrete(2)"
            ]
          },
          "metadata": {},
          "execution_count": 6
        }
      ],
      "source": [
        "env.action_space"
      ]
    },
    {
      "cell_type": "markdown",
      "metadata": {
        "id": "JEJqtOziBHqR"
      },
      "source": [
        "The **action space** of the Cart-Pole environment is discrete, which includes 0 and 1. 0 means pushing the cart to the left, and 1 means pushing the cart to the right."
      ]
    },
    {
      "cell_type": "code",
      "execution_count": 7,
      "metadata": {
        "id": "SwN_rCsfYD8l",
        "colab": {
          "base_uri": "https://localhost:8080/",
          "height": 0
        },
        "outputId": "8bc78b6c-e48b-42d1-95d8-feb91291ac83"
      },
      "outputs": [
        {
          "output_type": "stream",
          "name": "stdout",
          "text": [
            "1.0\n",
            "1.0\n",
            "1.0\n",
            "1.0\n",
            "1.0\n",
            "1.0\n",
            "1.0\n",
            "1.0\n",
            "1.0\n",
            "1.0\n"
          ]
        }
      ],
      "source": [
        "for i in range(10):\n",
        "  action = env.action_space.sample()\n",
        "  obs, reward, done, info = env.step(action)\n",
        "  print(reward)\n",
        "  if done:\n",
        "    break"
      ]
    },
    {
      "cell_type": "markdown",
      "metadata": {
        "id": "92o2EgKeBJcp"
      },
      "source": [
        "**Reward:** Since the goal is to keep the pole upright for as long as possible, a reward of +1 for every step taken, including the termination step, is allotted. The threshold for rewards is 475"
      ]
    },
    {
      "cell_type": "markdown",
      "metadata": {
        "id": "UJ8Od0fvBT03"
      },
      "source": [
        "For more details, please refer to the documentation of [OpenAI gym](https://www.gymlibrary.dev/environments/classic_control/cart_pole/). "
      ]
    },
    {
      "cell_type": "markdown",
      "metadata": {
        "id": "KoXKzrw4BWQx"
      },
      "source": [
        "# Episode termination conditions"
      ]
    },
    {
      "cell_type": "code",
      "execution_count": 8,
      "metadata": {
        "id": "ZB3VyHtZYfok",
        "colab": {
          "base_uri": "https://localhost:8080/",
          "height": 0
        },
        "outputId": "1c429105-5253-490e-c683-bf8447515987"
      },
      "outputs": [
        {
          "output_type": "stream",
          "name": "stdout",
          "text": [
            "[-0.00566096 -0.5969058   0.2308374   1.4824127 ]\n",
            "Pole angle is greater than 12 degree!\n"
          ]
        }
      ],
      "source": [
        "env.reset()\n",
        "for i in range(100):\n",
        "  action = env.action_space.sample()\n",
        "  obs, reward, done, info = env.step(action)\n",
        "  if done:\n",
        "    print(obs)\n",
        "    if np.abs(obs[0]>2.4):\n",
        "      print('Cart Position is greater than 2.4!')\n",
        "    elif np.abs(obs[2]>0.2095):\n",
        "      print('Pole angle is greater than 12 degree!')\n",
        "    break"
      ]
    },
    {
      "cell_type": "markdown",
      "metadata": {
        "id": "3OYKeZs_BaIN"
      },
      "source": [
        "The episode ends if any one of the following occurs:\n",
        "\n",
        "1. Termination: Pole Angle is greater than ±12°\n",
        "\n",
        "2. Termination: Cart Position is greater than ±2.4 (center of the cart reaches the edge of the display)\n",
        "\n",
        "3. Truncation: Episode length is greater than 500.\n"
      ]
    },
    {
      "cell_type": "markdown",
      "metadata": {
        "id": "os1I5qsOZtNw"
      },
      "source": [
        "# Helper functions for rendering"
      ]
    },
    {
      "cell_type": "code",
      "execution_count": 9,
      "metadata": {
        "id": "lT__1hO9BW3m",
        "colab": {
          "base_uri": "https://localhost:8080/",
          "height": 0
        },
        "outputId": "488ae066-e1a5-49bc-fbb4-8666b7f5304f"
      },
      "outputs": [
        {
          "output_type": "execute_result",
          "data": {
            "text/plain": [
              "<pyvirtualdisplay.display.Display at 0x7f6ba49f4310>"
            ]
          },
          "metadata": {},
          "execution_count": 9
        }
      ],
      "source": [
        "from pyvirtualdisplay import Display\n",
        "display = Display(visible=0, size=(1400, 900))\n",
        "display.start()"
      ]
    },
    {
      "cell_type": "code",
      "execution_count": 10,
      "metadata": {
        "id": "aAW4jhquBfM9"
      },
      "outputs": [],
      "source": [
        "\"\"\"\n",
        "Utility functions to enable video recording of gym environment and displaying it\n",
        "To enable video, just do \"env = wrap_env(env)\"\"\n",
        "\"\"\"\n",
        "\n",
        "def show_video():\n",
        "  mp4list = glob.glob('*.mp4')\n",
        "  if len(mp4list) > 0:\n",
        "    mp4 = mp4list[0]\n",
        "    video = io.open(mp4, 'r+b').read()\n",
        "    encoded = base64.b64encode(video)\n",
        "    ipythondisplay.display(HTML(data='''<video alt=\"test\" autoplay \n",
        "                loop controls style=\"height: 400px;\">\n",
        "                <source src=\"data:video/mp4;base64,{0}\" type=\"video/mp4\" />\n",
        "             </video>'''.format(encoded.decode('ascii'))))\n",
        "  else: \n",
        "    print(\"Could not find video\")\n",
        "    \n",
        "\n",
        "def wrap_env(env):\n",
        "  env = VideoRecorder(env, 'demo.mp4')\n",
        "  return env"
      ]
    },
    {
      "cell_type": "code",
      "execution_count": 11,
      "metadata": {
        "id": "1dMGF1lkCKJQ",
        "colab": {
          "base_uri": "https://localhost:8080/",
          "height": 887
        },
        "outputId": "88d38d35-4a08-4fb0-c862-6940caddf451"
      },
      "outputs": [
        {
          "output_type": "stream",
          "name": "stderr",
          "text": [
            "/usr/local/lib/python3.8/dist-packages/gym/envs/registration.py:593: UserWarning: \u001b[33mWARN: The environment CartPole-v0 is out of date. You should consider upgrading to version `v1`.\u001b[0m\n",
            "  logger.warn(\n",
            "/usr/local/lib/python3.8/dist-packages/gym/core.py:317: DeprecationWarning: \u001b[33mWARN: Initializing wrapper in old step API which returns one bool instead of two. It is recommended to set `new_step_api=True` to use new step API. This will be the default behaviour in future.\u001b[0m\n",
            "  deprecation(\n",
            "/usr/local/lib/python3.8/dist-packages/gym/wrappers/step_api_compatibility.py:39: DeprecationWarning: \u001b[33mWARN: Initializing environment in old step API which returns one bool instead of two. It is recommended to set `new_step_api=True` to use new step API. This will be the default behaviour in future.\u001b[0m\n",
            "  deprecation(\n",
            "/usr/local/lib/python3.8/dist-packages/gym/wrappers/monitoring/video_recorder.py:78: DeprecationWarning: \u001b[33mWARN: Recording ability for environment CartPole-v0 initialized with `render_mode=None` is marked as deprecated and will be removed in the future.\u001b[0m\n",
            "  logger.deprecation(\n",
            "/usr/local/lib/python3.8/dist-packages/gym/wrappers/monitoring/video_recorder.py:101: DeprecationWarning: \u001b[33mWARN: <class 'gym.wrappers.monitoring.video_recorder.VideoRecorder'> is marked as deprecated and will be removed in the future.\u001b[0m\n",
            "  logger.deprecation(\n",
            "/usr/local/lib/python3.8/dist-packages/gym/core.py:49: DeprecationWarning: \u001b[33mWARN: You are calling render method, but you didn't specified the argument render_mode at environment initialization. To maintain backward compatibility, the environment will render in human mode.\n",
            "If you want to render in human mode, initialize the environment in this way: gym.make('EnvName', render_mode='human') and don't call the render method.\n",
            "See here for more information: https://www.gymlibrary.ml/content/api/\u001b[0m\n",
            "  deprecation(\n",
            "/usr/local/lib/python3.8/dist-packages/gym/core.py:43: DeprecationWarning: \u001b[33mWARN: The argument mode in render method is deprecated; use render_mode during environment initialization instead.\n",
            "See here for more information: https://www.gymlibrary.ml/content/api/\u001b[0m\n",
            "  deprecation(\n",
            "/usr/local/lib/python3.8/dist-packages/gym/core.py:49: DeprecationWarning: \u001b[33mWARN: You are calling render method, but you didn't specified the argument render_mode at environment initialization. To maintain backward compatibility, the environment will render in human mode.\n",
            "If you want to render in human mode, initialize the environment in this way: gym.make('EnvName', render_mode='human') and don't call the render method.\n",
            "See here for more information: https://www.gymlibrary.ml/content/api/\u001b[0m\n",
            "  deprecation(\n",
            "/usr/local/lib/python3.8/dist-packages/gym/core.py:43: DeprecationWarning: \u001b[33mWARN: The argument mode in render method is deprecated; use render_mode during environment initialization instead.\n",
            "See here for more information: https://www.gymlibrary.ml/content/api/\u001b[0m\n",
            "  deprecation(\n"
          ]
        },
        {
          "output_type": "stream",
          "name": "stdout",
          "text": [
            "Pole angle is greater than 12 degree!\n"
          ]
        },
        {
          "output_type": "display_data",
          "data": {
            "text/plain": [
              "<IPython.core.display.HTML object>"
            ],
            "text/html": [
              "<video alt=\"test\" autoplay \n",
              "                loop controls style=\"height: 400px;\">\n",
              "                <source src=\"data:video/mp4;base64,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\" type=\"video/mp4\" />\n",
              "             </video>"
            ]
          },
          "metadata": {}
        }
      ],
      "source": [
        "import gym\n",
        "env = gym.make(\"CartPole-v0\")\n",
        "video = wrap_env(env)\n",
        "obs = env.reset()\n",
        "i = 0\n",
        "while True:\n",
        "    i+=1\n",
        "    env.render()\n",
        "    video.capture_frame()\n",
        "    #your agent goes here\n",
        "    action = env.action_space.sample() \n",
        "         \n",
        "    obs, reward, done, info = env.step(action)   \n",
        "    if done: \n",
        "      if np.abs(obs[0]>2.4):\n",
        "        print('Cart Position is greater than 2.4!')\n",
        "      elif np.abs(obs[2]>0.2095):\n",
        "        print('Pole angle is greater than 12 degree!')\n",
        "      break\n",
        "video.close()            \n",
        "env.close()\n",
        "show_video()\n",
        "#right click the video, you can download it!"
      ]
    },
    {
      "cell_type": "markdown",
      "metadata": {
        "id": "eooPb9aVau_e"
      },
      "source": [
        "# Questions begin here\n",
        "Now we already have a basic understanding of the environment, let's have more fun!"
      ]
    },
    {
      "cell_type": "code",
      "execution_count": 72,
      "metadata": {
        "id": "fose2cSXaKZy"
      },
      "outputs": [],
      "source": [
        "# Define the Q agent\n",
        "class Cart_Pole_Q_agent():\n",
        "  def __init__(self, discretization_bin=(1,1,8,16),\n",
        "                min_lr=0.1,\n",
        "                lr=0.2,\n",
        "                discount_factor = 0.99,\n",
        "                exploration_decay_rate =0.99,\n",
        "                exploration_rate =0.5,\n",
        "                num_episodes=1000):\n",
        "    # lr is short for learning rate, recall the update rule of Q learning, \n",
        "    #Q(s,a) += alpha*[R+gamma*max_aQ(s',a)-Q(s,a)]\n",
        "    #lr = alpha\n",
        "    #gamma = discount_factor\n",
        "    self.min_lr = min_lr\n",
        "    self.lr = lr\n",
        "    self.discount_factor = discount_factor\n",
        "    self.exploration_decay_rate = exploration_decay_rate\n",
        "    self.exploration_rate = exploration_rate\n",
        "    self.num_episodes = num_episodes\n",
        "    self.env = gym.make('CartPole-v0')\n",
        "    # Set the upper and lower bound\n",
        "    # Discretize the state space\n",
        "    self.discretization_bin = discretization_bin\n",
        "    self.upperbound = [2.4,3.0,0.5,2.0]\n",
        "    self.lowerbound = [-2.4,-3.0,-0.5,-2.0]\n",
        "    self.action_space_len = self.env.action_space.n\n",
        "    Q_table_size = self.discretization_bin+(self.action_space_len,)\n",
        "    #Initilize the Q value for all state-action pairs as 0\n",
        "    self.Q_tabular = np.zeros(Q_table_size)\n",
        "  \n",
        "  #Discretize the observations\n",
        "  def discretize_obs(self, obs):\n",
        "    discretized = list()\n",
        "    for i in range(len(obs)):\n",
        "      scaling = (obs[i] + abs(self.lowerbound[i])) / (self.upperbound[i] - self.lowerbound[i])\n",
        "      new_obs = int(round((self.discretization_bin[i] - 1) * scaling))\n",
        "      new_obs = min(self.discretization_bin[i] - 1, max(0, new_obs))\n",
        "      discretized.append(new_obs)\n",
        "    return tuple(discretized)\n",
        "  \n",
        "  # Choose the action\n",
        "  def select_action(self, obs):\n",
        "    #####explain why we need the first part to randomly pick actions\n",
        "    if (np.random.random() < self.exploration_rate):\n",
        "      return self.env.action_space.sample() \n",
        "    else:\n",
        "      #choose the action\n",
        "      ###### Your Code starts there\n",
        "\n",
        "      maxQ = np.argmax(self.Q_tabular[obs])\n",
        "      return maxQ;\n",
        "      \n",
        "      ###### Your Code ends there\n",
        "\n",
        "  # Update Q table\n",
        "  def update_the_Q_table(self, state, action, reward, new_state):\n",
        "    ###### Your Code starts there\n",
        "    alpha = self.lr;\n",
        "    gamma = self.discount_factor;\n",
        "\n",
        "    maxQprime = np.max(self.Q_tabular[new_state]);\n",
        "\n",
        "    self.Q_tabular[state][action] = self.Q_tabular[state][action] + (alpha)*(reward + (gamma)*maxQprime - self.Q_tabular[state][action]);\n",
        "    ###### Your Code ends there\n",
        "\n",
        "  def get_exploration_rate(self):\n",
        "    return self.exploration_rate*self.exploration_decay_rate\n",
        "\n",
        "  def train(self):\n",
        "    # you should collect all episodic rewards during training\n",
        "    #\n",
        "    reward_traj = []\n",
        "    for e in range(self.num_episodes):\n",
        "      ###### Your Code starts there\n",
        "      self.exploration_rate = self.get_exploration_rate();\n",
        "      obs = self.env.reset()\n",
        "      state = self.discretize_obs(obs)\n",
        "      current_reward = 0\n",
        "      while True:\n",
        "        \n",
        "          action = self.select_action(state);\n",
        "          obs, reward, done, info = self.env.step(action)\n",
        "\n",
        "          new_state = self.discretize_obs(obs);\n",
        "          self.update_the_Q_table(state,action,reward,new_state);\n",
        "          state = new_state;\n",
        "          current_reward = current_reward + 1;\n",
        "\n",
        "          if done:\n",
        "            break\n",
        "          \n",
        "      reward_traj.append(current_reward)\n",
        "        ###### Your Code ends there\n",
        "\n",
        "    print('Finished training!')\n",
        "    return reward_traj"
      ]
    },
    {
      "cell_type": "code",
      "execution_count": 89,
      "metadata": {
        "id": "7_5iUx4leVXW",
        "colab": {
          "base_uri": "https://localhost:8080/",
          "height": 442
        },
        "outputId": "7604989d-3056-4f36-858f-b8e224850526"
      },
      "outputs": [
        {
          "output_type": "stream",
          "name": "stderr",
          "text": [
            "/usr/local/lib/python3.8/dist-packages/gym/envs/registration.py:593: UserWarning: \u001b[33mWARN: The environment CartPole-v0 is out of date. You should consider upgrading to version `v1`.\u001b[0m\n",
            "  logger.warn(\n",
            "/usr/local/lib/python3.8/dist-packages/gym/core.py:317: DeprecationWarning: \u001b[33mWARN: Initializing wrapper in old step API which returns one bool instead of two. It is recommended to set `new_step_api=True` to use new step API. This will be the default behaviour in future.\u001b[0m\n",
            "  deprecation(\n",
            "/usr/local/lib/python3.8/dist-packages/gym/wrappers/step_api_compatibility.py:39: DeprecationWarning: \u001b[33mWARN: Initializing environment in old step API which returns one bool instead of two. It is recommended to set `new_step_api=True` to use new step API. This will be the default behaviour in future.\u001b[0m\n",
            "  deprecation(\n"
          ]
        },
        {
          "output_type": "stream",
          "name": "stdout",
          "text": [
            "Finished training!\n"
          ]
        },
        {
          "output_type": "execute_result",
          "data": {
            "text/plain": [
              "Text(0, 0.5, 'Rewards')"
            ]
          },
          "metadata": {},
          "execution_count": 89
        },
        {
          "output_type": "display_data",
          "data": {
            "text/plain": [
              "<Figure size 432x288 with 1 Axes>"
            ],
            "image/png": "[encoded data removed]"
          },
          "metadata": {
            "needs_background": "light"
          }
        }
      ],
      "source": [
        "agent = Cart_Pole_Q_agent()\n",
        "rwd_traj = agent.train()\n",
        "plt.plot(range(len(rwd_traj)),rwd_traj)\n",
        "plt.xlabel('Episodes')\n",
        "plt.ylabel('Rewards')\n",
        "#plt.ylim([0,200]);\n"
      ]
    },
    {
      "cell_type": "markdown",
      "source": [
        "The figure above shows the correct output of rewards vs. episodes as we see the final policy reaching and converging to the max reward of 200."
      ],
      "metadata": {
        "id": "-mvGto1sEO3G"
      }
    },
    {
      "cell_type": "code",
      "source": [
        "agent = Cart_Pole_Q_agent(lr = 0.5)\n",
        "rwd_traj = agent.train()\n",
        "plt.plot(range(len(rwd_traj)),rwd_traj)\n",
        "plt.xlabel('Episodes')\n",
        "plt.ylabel('Rewards')\n",
        "#plt.ylim([0,200]);"
      ],
      "metadata": {
        "colab": {
          "base_uri": "https://localhost:8080/",
          "height": 315
        },
        "id": "0K3qf3_cENNZ",
        "outputId": "84bbf5ee-1ed5-424e-8b02-bf4e97fe0ed2"
      },
      "execution_count": 77,
      "outputs": [
        {
          "output_type": "stream",
          "name": "stdout",
          "text": [
            "Finished training!\n"
          ]
        },
        {
          "output_type": "execute_result",
          "data": {
            "text/plain": [
              "Text(0, 0.5, 'Rewards')"
            ]
          },
          "metadata": {},
          "execution_count": 77
        },
        {
          "output_type": "display_data",
          "data": {
            "text/plain": [
              "<Figure size 432x288 with 1 Axes>"
            ],
            "image/png": "[encoded data removed]"
          },
          "metadata": {
            "needs_background": "light"
          }
        }
      ]
    },
    {
      "cell_type": "markdown",
      "source": [
        "This figure above shows what happens to the system when we alter the learning rate (i.e. alpha). In this case, I changed the learning rate from it's initial value of 0.2 to 0.5, and we see a major decrease in the system's performance. "
      ],
      "metadata": {
        "id": "GCLgwkCuFY2V"
      }
    },
    {
      "cell_type": "code",
      "source": [
        "agent = Cart_Pole_Q_agent(exploration_rate = 0.99)\n",
        "rwd_traj = agent.train()\n",
        "plt.plot(range(len(rwd_traj)),rwd_traj)\n",
        "plt.xlabel('Episodes')\n",
        "plt.ylabel('Rewards')\n"
      ],
      "metadata": {
        "colab": {
          "base_uri": "https://localhost:8080/",
          "height": 315
        },
        "id": "EIl8q2QAFZxH",
        "outputId": "7d833b3e-c80e-4dd9-cc8d-59ca415c26e6"
      },
      "execution_count": 84,
      "outputs": [
        {
          "output_type": "stream",
          "name": "stdout",
          "text": [
            "Finished training!\n"
          ]
        },
        {
          "output_type": "execute_result",
          "data": {
            "text/plain": [
              "Text(0, 0.5, 'Rewards')"
            ]
          },
          "metadata": {},
          "execution_count": 84
        },
        {
          "output_type": "display_data",
          "data": {
            "text/plain": [
              "<Figure size 432x288 with 1 Axes>"
            ],
            "image/png": "[encoded data removed]"
          },
          "metadata": {
            "needs_background": "light"
          }
        }
      ]
    },
    {
      "cell_type": "markdown",
      "source": [
        "In the figure above, I altered the exploration rate by increasing it from 0.5 to 0.99, and we see another precise system similar to figure 1. This shows that increasing the exploration rate allows for the policy to reach the max reward either at the same rate of more efficiently than before. "
      ],
      "metadata": {
        "id": "C6KZHr5-Gw4-"
      }
    },
    {
      "cell_type": "code",
      "source": [
        "agent = Cart_Pole_Q_agent(exploration_rate = 0.1)\n",
        "rwd_traj = agent.train()\n",
        "plt.plot(range(len(rwd_traj)),rwd_traj)\n",
        "plt.xlabel('Episodes')\n",
        "plt.ylabel('Rewards')"
      ],
      "metadata": {
        "colab": {
          "base_uri": "https://localhost:8080/",
          "height": 315
        },
        "id": "bHu-tsERGpEc",
        "outputId": "b050b0b2-4370-4634-b03d-b2b48b7d464a"
      },
      "execution_count": 85,
      "outputs": [
        {
          "output_type": "stream",
          "name": "stdout",
          "text": [
            "Finished training!\n"
          ]
        },
        {
          "output_type": "execute_result",
          "data": {
            "text/plain": [
              "Text(0, 0.5, 'Rewards')"
            ]
          },
          "metadata": {},
          "execution_count": 85
        },
        {
          "output_type": "display_data",
          "data": {
            "text/plain": [
              "<Figure size 432x288 with 1 Axes>"
            ],
            "image/png": "[encoded data removed]"
          },
          "metadata": {
            "needs_background": "light"
          }
        }
      ]
    },
    {
      "cell_type": "markdown",
      "source": [
        "In the figure above, I decreased the exploration rate from 0.5 to 0.1, and we see a drastic decrease in the system's performance. This shows that decreasing the exploration rate results in an unstable, far less efficient system. "
      ],
      "metadata": {
        "id": "xTBzxbEmGwIw"
      }
    },
    {
      "cell_type": "code",
      "source": [
        "agent = Cart_Pole_Q_agent(discretization_bin = (1,1,16,32))\n",
        "rwd_traj = agent.train()\n",
        "plt.plot(range(len(rwd_traj)),rwd_traj)\n",
        "plt.xlabel('Episodes')\n",
        "plt.ylabel('Rewards')"
      ],
      "metadata": {
        "colab": {
          "base_uri": "https://localhost:8080/",
          "height": 315
        },
        "id": "O3mf_53MGyZU",
        "outputId": "b6a3cb52-93eb-411b-927b-4241bfa87fe0"
      },
      "execution_count": 87,
      "outputs": [
        {
          "output_type": "stream",
          "name": "stdout",
          "text": [
            "Finished training!\n"
          ]
        },
        {
          "output_type": "execute_result",
          "data": {
            "text/plain": [
              "Text(0, 0.5, 'Rewards')"
            ]
          },
          "metadata": {},
          "execution_count": 87
        },
        {
          "output_type": "display_data",
          "data": {
            "text/plain": [
              "<Figure size 432x288 with 1 Axes>"
            ],
            "image/png": "[encoded data removed]"
          },
          "metadata": {
            "needs_background": "light"
          }
        }
      ]
    },
    {
      "cell_type": "markdown",
      "source": [
        "In the figure above I increased the discretization bin by a factor of 2, which resulted in a decrease in the system's performance as the max reward of 200 is never consistently reached. This is due to the fact that increasing the discretization bin allows for more possible states that could not include the max reward, therefore making it less likely for the policy to achieve a consistent max reward (i.e. stability). "
      ],
      "metadata": {
        "id": "zaIm-VrIHRw8"
      }
    },
    {
      "cell_type": "code",
      "source": [
        "agent = Cart_Pole_Q_agent(discretization_bin = (1,1,2,4))\n",
        "rwd_traj = agent.train()\n",
        "plt.plot(range(len(rwd_traj)),rwd_traj)\n",
        "plt.xlabel('Episodes')\n",
        "plt.ylabel('Rewards')"
      ],
      "metadata": {
        "colab": {
          "base_uri": "https://localhost:8080/",
          "height": 442
        },
        "id": "hE-PnDsOHSO1",
        "outputId": "07f76673-fd49-4dfd-8d26-56e2e41f7d0a"
      },
      "execution_count": 88,
      "outputs": [
        {
          "output_type": "stream",
          "name": "stderr",
          "text": [
            "/usr/local/lib/python3.8/dist-packages/gym/envs/registration.py:593: UserWarning: \u001b[33mWARN: The environment CartPole-v0 is out of date. You should consider upgrading to version `v1`.\u001b[0m\n",
            "  logger.warn(\n",
            "/usr/local/lib/python3.8/dist-packages/gym/core.py:317: DeprecationWarning: \u001b[33mWARN: Initializing wrapper in old step API which returns one bool instead of two. It is recommended to set `new_step_api=True` to use new step API. This will be the default behaviour in future.\u001b[0m\n",
            "  deprecation(\n",
            "/usr/local/lib/python3.8/dist-packages/gym/wrappers/step_api_compatibility.py:39: DeprecationWarning: \u001b[33mWARN: Initializing environment in old step API which returns one bool instead of two. It is recommended to set `new_step_api=True` to use new step API. This will be the default behaviour in future.\u001b[0m\n",
            "  deprecation(\n"
          ]
        },
        {
          "output_type": "stream",
          "name": "stdout",
          "text": [
            "Finished training!\n"
          ]
        },
        {
          "output_type": "execute_result",
          "data": {
            "text/plain": [
              "Text(0, 0.5, 'Rewards')"
            ]
          },
          "metadata": {},
          "execution_count": 88
        },
        {
          "output_type": "display_data",
          "data": {
            "text/plain": [
              "<Figure size 432x288 with 1 Axes>"
            ],
            "image/png": "[encoded data removed]"
          },
          "metadata": {
            "needs_background": "light"
          }
        }
      ]
    },
    {
      "cell_type": "markdown",
      "source": [
        "In the figure above, I decreased the discretization bin by a factor of 2, which resulted in a much more stable system than when I increased the discretization bin by a factor of 2. This is because decreasing the discretization bin allows for less possible states to go through in order to reach the max reward. However, this is less efficient than the initial Q table since there are more instances in which the policy can reach a reward that is less than the max reward as seen in the figure above.  "
      ],
      "metadata": {
        "id": "zSKDlkkEe4LE"
      }
    },
    {
      "cell_type": "code",
      "execution_count": 90,
      "metadata": {
        "id": "l1bXBrYwulWg",
        "colab": {
          "base_uri": "https://localhost:8080/",
          "height": 887
        },
        "outputId": "b895998e-8143-4004-d749-fcb8de51abbe"
      },
      "outputs": [
        {
          "output_type": "stream",
          "name": "stderr",
          "text": [
            "/usr/local/lib/python3.8/dist-packages/gym/envs/registration.py:593: UserWarning: \u001b[33mWARN: The environment CartPole-v0 is out of date. You should consider upgrading to version `v1`.\u001b[0m\n",
            "  logger.warn(\n",
            "/usr/local/lib/python3.8/dist-packages/gym/core.py:317: DeprecationWarning: \u001b[33mWARN: Initializing wrapper in old step API which returns one bool instead of two. It is recommended to set `new_step_api=True` to use new step API. This will be the default behaviour in future.\u001b[0m\n",
            "  deprecation(\n",
            "/usr/local/lib/python3.8/dist-packages/gym/wrappers/step_api_compatibility.py:39: DeprecationWarning: \u001b[33mWARN: Initializing environment in old step API which returns one bool instead of two. It is recommended to set `new_step_api=True` to use new step API. This will be the default behaviour in future.\u001b[0m\n",
            "  deprecation(\n",
            "/usr/local/lib/python3.8/dist-packages/gym/wrappers/monitoring/video_recorder.py:78: DeprecationWarning: \u001b[33mWARN: Recording ability for environment CartPole-v0 initialized with `render_mode=None` is marked as deprecated and will be removed in the future.\u001b[0m\n",
            "  logger.deprecation(\n",
            "/usr/local/lib/python3.8/dist-packages/gym/wrappers/monitoring/video_recorder.py:101: DeprecationWarning: \u001b[33mWARN: <class 'gym.wrappers.monitoring.video_recorder.VideoRecorder'> is marked as deprecated and will be removed in the future.\u001b[0m\n",
            "  logger.deprecation(\n",
            "/usr/local/lib/python3.8/dist-packages/gym/core.py:49: DeprecationWarning: \u001b[33mWARN: You are calling render method, but you didn't specified the argument render_mode at environment initialization. To maintain backward compatibility, the environment will render in human mode.\n",
            "If you want to render in human mode, initialize the environment in this way: gym.make('EnvName', render_mode='human') and don't call the render method.\n",
            "See here for more information: https://www.gymlibrary.ml/content/api/\u001b[0m\n",
            "  deprecation(\n",
            "/usr/local/lib/python3.8/dist-packages/gym/core.py:43: DeprecationWarning: \u001b[33mWARN: The argument mode in render method is deprecated; use render_mode during environment initialization instead.\n",
            "See here for more information: https://www.gymlibrary.ml/content/api/\u001b[0m\n",
            "  deprecation(\n",
            "/usr/local/lib/python3.8/dist-packages/gym/core.py:49: DeprecationWarning: \u001b[33mWARN: You are calling render method, but you didn't specified the argument render_mode at environment initialization. To maintain backward compatibility, the environment will render in human mode.\n",
            "If you want to render in human mode, initialize the environment in this way: gym.make('EnvName', render_mode='human') and don't call the render method.\n",
            "See here for more information: https://www.gymlibrary.ml/content/api/\u001b[0m\n",
            "  deprecation(\n",
            "/usr/local/lib/python3.8/dist-packages/gym/core.py:43: DeprecationWarning: \u001b[33mWARN: The argument mode in render method is deprecated; use render_mode during environment initialization instead.\n",
            "See here for more information: https://www.gymlibrary.ml/content/api/\u001b[0m\n",
            "  deprecation(\n"
          ]
        },
        {
          "output_type": "stream",
          "name": "stdout",
          "text": [
            "timesteps :  200\n"
          ]
        },
        {
          "output_type": "display_data",
          "data": {
            "text/plain": [
              "<IPython.core.display.HTML object>"
            ],
            "text/html": [
              "<video alt=\"test\" autoplay \n",
              "                loop controls style=\"height: 400px;\">\n",
              "                <source src=\"data:video/mp4;base64,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\" type=\"video/mp4\" />\n",
              "             </video>"
            ]
          },
          "metadata": {}
        }
      ],
      "source": [
        "# test the policy\n",
        "import gym\n",
        "env = gym.make(\"CartPole-v0\")\n",
        "video = wrap_env(env)\n",
        "obs = env.reset()\n",
        "###### Test the performance of your trianed agent \n",
        "###### Your Code starts there\n",
        "timesteps = 0;\n",
        "while True:\n",
        "    timesteps +=1;\n",
        "    env.render();\n",
        "    video.capture_frame();\n",
        "\n",
        "    state = agent.discretize_obs(obs);\n",
        "    action = agent.select_action(state);\n",
        "    obs, reward, done, info = env.step(action);\n",
        "\n",
        "    if done:\n",
        "      if(np.abs(obs[0])>2.4):\n",
        "        print('Cart position is greater than 2.4')\n",
        "      elif (np.abs(obs[2])>0.2095):\n",
        "        print('Pole angle is greater than 12 degrees')\n",
        "      break\n",
        "print(\"timesteps : \", timesteps);\n",
        "\n",
        "###### Your Code ends there\n",
        "video.close()            \n",
        "env.close()\n",
        "show_video()\n",
        "#right click the video, you can download it!"
      ]
    },
    {
      "cell_type": "markdown",
      "source": [
        "**Part 3 : Learning Rate and Exploration Rate** \n",
        "\n",
        "We want to use the exploration_rate rather than the optimal action (i.e. a = argmax_a Q(s,a)) since the exploration rate allows for more randomness in choosing the next state in the state space. When using the optimal action, choosing the next state isn't always obvious nor accurate so using exploration_rate allows for a higher probability of achieving the max reward."
      ],
      "metadata": {
        "id": "9_XkYtVfgw1K"
      }
    }
  ],
  "metadata": {
    "colab": {
      "provenance": []
    },
    "kernelspec": {
      "display_name": "Python 3",
      "name": "python3"
    },
    "language_info": {
      "name": "python"
    }
  },
  "nbformat": 4,
  "nbformat_minor": 0
}